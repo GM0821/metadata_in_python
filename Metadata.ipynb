{
 "cells": [
  {
   "cell_type": "code",
   "execution_count": 1,
   "id": "9372b56a",
   "metadata": {},
   "outputs": [],
   "source": [
    "import PIL.Image\n",
    "\n",
    "img = PIL.Image.open(\"image1.jpg\")"
   ]
  },
  {
   "cell_type": "code",
   "execution_count": 2,
   "id": "acd61095",
   "metadata": {},
   "outputs": [
    {
     "name": "stdout",
     "output_type": "stream",
     "text": [
      "{296: 2, 34665: 168, 305: 'Adobe Photoshop CC 2019 (Windows)', 274: 1, 306: '2020:08:06 08:43:28', 282: 72.0, 283: 72.0, 40961: 65535, 40962: 900, 40963: 500}\n"
     ]
    }
   ],
   "source": [
    "print(img._getexif())"
   ]
  },
  {
   "cell_type": "code",
   "execution_count": 3,
   "id": "08db0f9b",
   "metadata": {},
   "outputs": [],
   "source": [
    "import PIL.ExifTags\n",
    "\n",
    "exif = {PIL.ExifTags.TAGS[key]: value for key, value in img._getexif().items() if key in PIL.ExifTags.TAGS}"
   ]
  },
  {
   "cell_type": "code",
   "execution_count": 4,
   "id": "e1b4ea1c",
   "metadata": {},
   "outputs": [
    {
     "data": {
      "text/plain": [
       "{'Software': 'Adobe Photoshop CC 2019 (Windows)',\n",
       " 'Orientation': 1,\n",
       " 'DateTime': '2020:08:06 08:43:28',\n",
       " 'ResolutionUnit': 2,\n",
       " 'ExifOffset': 168,\n",
       " 'XResolution': 72.0,\n",
       " 'YResolution': 72.0,\n",
       " 'ColorSpace': 65535,\n",
       " 'ExifImageWidth': 900,\n",
       " 'ExifImageHeight': 500}"
      ]
     },
     "execution_count": 4,
     "metadata": {},
     "output_type": "execute_result"
    }
   ],
   "source": [
    "exif"
   ]
  },
  {
   "cell_type": "code",
   "execution_count": 5,
   "id": "07e6df53",
   "metadata": {},
   "outputs": [],
   "source": [
    "img2 = PIL.Image.open(\"image1_edited.jpg\")"
   ]
  },
  {
   "cell_type": "code",
   "execution_count": 6,
   "id": "80b792e9",
   "metadata": {},
   "outputs": [],
   "source": [
    "exif2 = {PIL.ExifTags.TAGS[key]: value for key, value in img2._getexif().items() if key in PIL.ExifTags.TAGS}"
   ]
  },
  {
   "cell_type": "code",
   "execution_count": 7,
   "id": "31cf7d00",
   "metadata": {},
   "outputs": [
    {
     "data": {
      "text/plain": [
       "{'Software': 'Adobe Photoshop CC 2019 (Windows)',\n",
       " 'Orientation': 1,\n",
       " 'DateTime': '2020:08:06 08:43:28',\n",
       " 'ResolutionUnit': 2,\n",
       " 'ExifOffset': 168,\n",
       " 'XResolution': 72.0,\n",
       " 'YResolution': 72.0,\n",
       " 'ColorSpace': 65535,\n",
       " 'ExifImageWidth': 900,\n",
       " 'ExifImageHeight': 500}"
      ]
     },
     "execution_count": 7,
     "metadata": {},
     "output_type": "execute_result"
    }
   ],
   "source": [
    "exif"
   ]
  },
  {
   "cell_type": "code",
   "execution_count": 8,
   "id": "32ad2223",
   "metadata": {},
   "outputs": [],
   "source": [
    "import piexif\n",
    "\n",
    "exif_dict = piexif.load(\"image1_edited.jpg\")"
   ]
  },
  {
   "cell_type": "code",
   "execution_count": 10,
   "id": "e1a91d4f",
   "metadata": {},
   "outputs": [],
   "source": [
    "new_exif = piexif.load(\"image1.jpg\")"
   ]
  },
  {
   "cell_type": "code",
   "execution_count": 12,
   "id": "a2dc8488",
   "metadata": {},
   "outputs": [],
   "source": [
    "exif_bytes = piexif.dump(new_exif)"
   ]
  },
  {
   "cell_type": "code",
   "execution_count": 13,
   "id": "8448b679",
   "metadata": {},
   "outputs": [],
   "source": [
    "piexif.insert(exif_bytes, \"image1_edited.jpg\")"
   ]
  },
  {
   "cell_type": "code",
   "execution_count": 15,
   "id": "cdb95dde",
   "metadata": {},
   "outputs": [],
   "source": [
    "img_edited = PIL.Image.open(\"image1_edited.jpg\")\n",
    "exif_edited = {PIL.ExifTags.TAGS[key]: value for key, value in img_edited._getexif().items() if key in PIL.ExifTags.TAGS}"
   ]
  },
  {
   "cell_type": "code",
   "execution_count": 16,
   "id": "d691f1ad",
   "metadata": {},
   "outputs": [
    {
     "data": {
      "text/plain": [
       "{'ResolutionUnit': 2,\n",
       " 'ExifOffset': 168,\n",
       " 'Software': 'Adobe Photoshop CC 2019 (Windows)',\n",
       " 'Orientation': 1,\n",
       " 'DateTime': '2020:08:06 08:43:28',\n",
       " 'XResolution': 72.0,\n",
       " 'YResolution': 72.0,\n",
       " 'ColorSpace': 65535,\n",
       " 'ExifImageWidth': 900,\n",
       " 'ExifImageHeight': 500}"
      ]
     },
     "execution_count": 16,
     "metadata": {},
     "output_type": "execute_result"
    }
   ],
   "source": [
    "exif_edited"
   ]
  },
  {
   "cell_type": "code",
   "execution_count": null,
   "id": "508dbc50",
   "metadata": {},
   "outputs": [],
   "source": []
  }
 ],
 "metadata": {
  "kernelspec": {
   "display_name": "Python 3 (ipykernel)",
   "language": "python",
   "name": "python3"
  },
  "language_info": {
   "codemirror_mode": {
    "name": "ipython",
    "version": 3
   },
   "file_extension": ".py",
   "mimetype": "text/x-python",
   "name": "python",
   "nbconvert_exporter": "python",
   "pygments_lexer": "ipython3",
   "version": "3.10.9"
  }
 },
 "nbformat": 4,
 "nbformat_minor": 5
}
